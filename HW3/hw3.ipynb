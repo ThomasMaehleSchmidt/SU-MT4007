{
 "cells": [
  {
   "cell_type": "markdown",
   "id": "8e86696f-ec1e-40fc-9e29-5d6e74fc4c51",
   "metadata": {},
   "source": [
    "# Homework 3"
   ]
  },
  {
   "cell_type": "code",
   "execution_count": 1,
   "id": "b44067d3-b392-41ed-bfa5-13cb95a58fc6",
   "metadata": {},
   "outputs": [],
   "source": [
    "import pandas as pd\n",
    "import numpy as np\n",
    "import matplotlib.pyplot as plt\n",
    "import seaborn as sns"
   ]
  },
  {
   "cell_type": "code",
   "execution_count": 2,
   "id": "456dafeb-4874-4f80-bb31-37b829b3c425",
   "metadata": {},
   "outputs": [],
   "source": [
    "df = pd.read_csv(\"https://raw.githubusercontent.com/su-mt4007/data/refs/heads/main/IRIS.csv\")"
   ]
  },
  {
   "cell_type": "code",
   "execution_count": null,
   "id": "a9583fc7-cfdc-4e55-8f45-c2b33a2dc675",
   "metadata": {},
   "outputs": [],
   "source": [
    "sns.scatterplot(data = df, x = df[\"sepal_width\"], y = df[\"petal_length\"], hue = \"species\")\n",
    "sns.scatterplot(data = df, x = df[\"sepal_length\"], y = df[\"petal_width\"], hue = \"species\")\n",
    "plt.show(a, b)"
   ]
  }
 ],
 "metadata": {
  "kernelspec": {
   "display_name": "Python 3 (ipykernel)",
   "language": "python",
   "name": "python3"
  },
  "language_info": {
   "codemirror_mode": {
    "name": "ipython",
    "version": 3
   },
   "file_extension": ".py",
   "mimetype": "text/x-python",
   "name": "python",
   "nbconvert_exporter": "python",
   "pygments_lexer": "ipython3",
   "version": "3.13.0"
  }
 },
 "nbformat": 4,
 "nbformat_minor": 5
}
