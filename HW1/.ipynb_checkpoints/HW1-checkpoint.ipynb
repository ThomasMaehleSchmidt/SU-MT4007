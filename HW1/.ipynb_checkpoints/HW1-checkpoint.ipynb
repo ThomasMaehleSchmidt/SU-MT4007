{
 "cells": [
  {
   "cell_type": "markdown",
   "id": "a3b5abbc-8194-4b46-8261-303110b8fcf7",
   "metadata": {},
   "source": [
    "# Homework 1\n",
    "\n",
    "My name is Thomas. I am from Täby and am currently in my second year on the bachelor's programme in mathematics and computer science.\n",
    "\n",
    "This will be my first formal experience with data science, but I have done a few courses in computer science ranging from programming C# and python to datastructures and algorithms."
   ]
  }
 ],
 "metadata": {
  "kernelspec": {
   "display_name": "Python 3 (ipykernel)",
   "language": "python",
   "name": "python3"
  },
  "language_info": {
   "codemirror_mode": {
    "name": "ipython",
    "version": 3
   },
   "file_extension": ".py",
   "mimetype": "text/x-python",
   "name": "python",
   "nbconvert_exporter": "python",
   "pygments_lexer": "ipython3",
   "version": "3.13.0"
  }
 },
 "nbformat": 4,
 "nbformat_minor": 5
}
