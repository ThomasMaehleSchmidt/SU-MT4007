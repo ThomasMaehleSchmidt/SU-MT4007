{
 "cells": [
  {
   "cell_type": "markdown",
   "id": "bd30292d-feb1-4c47-8273-0e9b849579a4",
   "metadata": {},
   "source": [
    "# Rubrik"
   ]
  },
  {
   "cell_type": "markdown",
   "id": "8621e746-960d-4906-a5ed-f7afc46fcf87",
   "metadata": {},
   "source": [
    "A short presentation about me and my background in data science."
   ]
  }
 ],
 "metadata": {
  "kernelspec": {
   "display_name": "Python 3 (ipykernel)",
   "language": "python",
   "name": "python3"
  },
  "language_info": {
   "codemirror_mode": {
    "name": "ipython",
    "version": 3
   },
   "file_extension": ".py",
   "mimetype": "text/x-python",
   "name": "python",
   "nbconvert_exporter": "python",
   "pygments_lexer": "ipython3",
   "version": "3.13.0"
  }
 },
 "nbformat": 4,
 "nbformat_minor": 5
}
