{
 "cells": [
  {
   "cell_type": "code",
   "execution_count": 1,
   "id": "6fd800ad-c7ed-43d6-83eb-decee8087e57",
   "metadata": {},
   "outputs": [],
   "source": [
    "import pandas as pd\n",
    "import numpy as np\n",
    "import matplotlib.pyplot as plt"
   ]
  },
  {
   "cell_type": "code",
   "execution_count": 2,
   "id": "e76e69ef-f8b0-45ba-b4eb-5efa814aeab3",
   "metadata": {},
   "outputs": [],
   "source": [
    "df = pd.read_csv(\"https://raw.githubusercontent.com/su-mt4007/data/refs/heads/main/Booli_sold.csv\")"
   ]
  },
  {
   "cell_type": "code",
   "execution_count": 3,
   "id": "3765feb5-f8a1-4d62-a421-f7c37f9db43d",
   "metadata": {},
   "outputs": [],
   "source": [
    "df.loc[:, \"PPSM\"] = (df[\"soldPrice\"]/df[\"livingArea\"]).round()"
   ]
  },
  {
   "cell_type": "code",
   "execution_count": 4,
   "id": "c2f7b7ba-630c-4fb7-8884-ba14d7ab8de2",
   "metadata": {},
   "outputs": [],
   "source": [
    "relevant_df = df[[\"soldPrice\", \"livingArea\", \"location.address.streetAddress\", \"location.distance.ocean\", \"constructionYear\", \"floor\", \"PPSM\"]]"
   ]
  },
  {
   "cell_type": "code",
   "execution_count": 5,
   "id": "d026b81d-93a8-4ffd-9fc1-37722e71d3c6",
   "metadata": {},
   "outputs": [
    {
     "data": {
      "text/html": [
       "<div>\n",
       "<style scoped>\n",
       "    .dataframe tbody tr th:only-of-type {\n",
       "        vertical-align: middle;\n",
       "    }\n",
       "\n",
       "    .dataframe tbody tr th {\n",
       "        vertical-align: top;\n",
       "    }\n",
       "\n",
       "    .dataframe thead th {\n",
       "        text-align: right;\n",
       "    }\n",
       "</style>\n",
       "<table border=\"1\" class=\"dataframe\">\n",
       "  <thead>\n",
       "    <tr style=\"text-align: right;\">\n",
       "      <th></th>\n",
       "      <th>soldPrice</th>\n",
       "      <th>livingArea</th>\n",
       "      <th>location.address.streetAddress</th>\n",
       "      <th>location.distance.ocean</th>\n",
       "      <th>constructionYear</th>\n",
       "      <th>floor</th>\n",
       "      <th>PPSM</th>\n",
       "    </tr>\n",
       "  </thead>\n",
       "  <tbody>\n",
       "    <tr>\n",
       "      <th>67</th>\n",
       "      <td>2500000</td>\n",
       "      <td>24.0</td>\n",
       "      <td>Ekhagsvägen 8</td>\n",
       "      <td>161</td>\n",
       "      <td>1935.0</td>\n",
       "      <td>3.0</td>\n",
       "      <td>104167.0</td>\n",
       "    </tr>\n",
       "    <tr>\n",
       "      <th>50</th>\n",
       "      <td>2450000</td>\n",
       "      <td>24.0</td>\n",
       "      <td>Ekhagsvägen 8</td>\n",
       "      <td>161</td>\n",
       "      <td>1935.0</td>\n",
       "      <td>3.0</td>\n",
       "      <td>102083.0</td>\n",
       "    </tr>\n",
       "    <tr>\n",
       "      <th>54</th>\n",
       "      <td>2300000</td>\n",
       "      <td>23.0</td>\n",
       "      <td>Ekhagsvägen 10</td>\n",
       "      <td>135</td>\n",
       "      <td>1935.0</td>\n",
       "      <td>1.0</td>\n",
       "      <td>100000.0</td>\n",
       "    </tr>\n",
       "    <tr>\n",
       "      <th>34</th>\n",
       "      <td>2210000</td>\n",
       "      <td>25.0</td>\n",
       "      <td>Torphagsvägen 4</td>\n",
       "      <td>218</td>\n",
       "      <td>1936.0</td>\n",
       "      <td>0.0</td>\n",
       "      <td>88400.0</td>\n",
       "    </tr>\n",
       "    <tr>\n",
       "      <th>55</th>\n",
       "      <td>2300000</td>\n",
       "      <td>26.9</td>\n",
       "      <td>Docentbacken 1B</td>\n",
       "      <td>298</td>\n",
       "      <td>1968.0</td>\n",
       "      <td>2.0</td>\n",
       "      <td>85502.0</td>\n",
       "    </tr>\n",
       "  </tbody>\n",
       "</table>\n",
       "</div>"
      ],
      "text/plain": [
       "    soldPrice  livingArea location.address.streetAddress  \\\n",
       "67    2500000        24.0                  Ekhagsvägen 8   \n",
       "50    2450000        24.0                  Ekhagsvägen 8   \n",
       "54    2300000        23.0                 Ekhagsvägen 10   \n",
       "34    2210000        25.0                Torphagsvägen 4   \n",
       "55    2300000        26.9                Docentbacken 1B   \n",
       "\n",
       "    location.distance.ocean  constructionYear  floor      PPSM  \n",
       "67                      161            1935.0    3.0  104167.0  \n",
       "50                      161            1935.0    3.0  102083.0  \n",
       "54                      135            1935.0    1.0  100000.0  \n",
       "34                      218            1936.0    0.0   88400.0  \n",
       "55                      298            1968.0    2.0   85502.0  "
      ]
     },
     "execution_count": 5,
     "metadata": {},
     "output_type": "execute_result"
    }
   ],
   "source": [
    "#ppsm_sorted_df = relevant_df.sort_values(\"PPSM\", ascending = False)\n",
    "sorted_df = relevant_df.sort_values(\"PPSM\", ascending = False)\n",
    "sorted_df.head(5)"
   ]
  },
  {
   "cell_type": "code",
   "execution_count": 6,
   "id": "b0a07d7e-981c-4ecc-9a9d-1b76ab6a907b",
   "metadata": {},
   "outputs": [],
   "source": [
    "filtered_df = sorted_df.dropna(subset = \"PPSM\")"
   ]
  },
  {
   "cell_type": "code",
   "execution_count": 7,
   "id": "f7805bf9-301a-4921-bb03-275515a64c90",
   "metadata": {},
   "outputs": [
    {
     "name": "stdout",
     "output_type": "stream",
     "text": [
      "58759.388535031845\n"
     ]
    }
   ],
   "source": [
    "#print(filtered_df[\"soldPrice\"].sum()/filtered_df[\"livingArea\"].sum())\n",
    "print(filtered_df[\"PPSM\"].sum()/len(filtered_df))"
   ]
  },
  {
   "cell_type": "code",
   "execution_count": 8,
   "id": "995eb09a-5720-406e-8f8b-8ec2b5ada74e",
   "metadata": {},
   "outputs": [
    {
     "data": {
      "image/png": "[encoded data removed]",
      "text/plain": [
       "<Figure size 640x480 with 1 Axes>"
      ]
     },
     "metadata": {},
     "output_type": "display_data"
    }
   ],
   "source": [
    "plot1 = sorted_df.plot.scatter(\"livingArea\", \"PPSM\")"
   ]
  },
  {
   "cell_type": "code",
   "execution_count": null,
   "id": "9f4e4fa4-60ed-48d4-ba69-bb02dde9813e",
   "metadata": {},
   "outputs": [],
   "source": [
    "# relevant_df[\"PPSM\"] = relevant_df.loc[[\"\",\"\"]].apply(lambda x: x[col_1]/x[col_2])"
   ]
  },
  {
   "cell_type": "code",
   "execution_count": 9,
   "id": "1044f6d1-ab30-410e-b9c4-3d2e734061db",
   "metadata": {},
   "outputs": [],
   "source": [
    "df2 = pd.read_csv(\"https://raw.githubusercontent.com/su-mt4007/data/refs/heads/main/2018_R_per_kommun.csv\", sep = \";\", decimal = \",\")"
   ]
  },
  {
   "cell_type": "code",
   "execution_count": 10,
   "id": "5475ecf1-115d-411a-a930-104e76f9f230",
   "metadata": {},
   "outputs": [
    {
     "data": {
      "text/html": [
       "<div>\n",
       "<style scoped>\n",
       "    .dataframe tbody tr th:only-of-type {\n",
       "        vertical-align: middle;\n",
       "    }\n",
       "\n",
       "    .dataframe tbody tr th {\n",
       "        vertical-align: top;\n",
       "    }\n",
       "\n",
       "    .dataframe thead th {\n",
       "        text-align: right;\n",
       "    }\n",
       "</style>\n",
       "<table border=\"1\" class=\"dataframe\">\n",
       "  <thead>\n",
       "    <tr style=\"text-align: right;\">\n",
       "      <th></th>\n",
       "      <th>RÖSTER GILTIGA</th>\n",
       "    </tr>\n",
       "    <tr>\n",
       "      <th>LÄNSNAMN</th>\n",
       "      <th></th>\n",
       "    </tr>\n",
       "  </thead>\n",
       "  <tbody>\n",
       "    <tr>\n",
       "      <th>Stockholms län</th>\n",
       "      <td>1426237</td>\n",
       "    </tr>\n",
       "  </tbody>\n",
       "</table>\n",
       "</div>"
      ],
      "text/plain": [
       "                RÖSTER GILTIGA\n",
       "LÄNSNAMN                      \n",
       "Stockholms län         1426237"
      ]
     },
     "execution_count": 10,
     "metadata": {},
     "output_type": "execute_result"
    }
   ],
   "source": [
    "filtered_df2 = df2.loc[df2[\"LÄNSNAMN\"] == \"Stockholms län\"] \n",
    "grouped_df2 = filtered_df2.groupby(\"LÄNSNAMN\").sum(\"RÖSTERGILTIGA\")\n",
    "relevant_df2 = grouped_df2[[\"RÖSTER GILTIGA\"]]\n",
    "relevant_df2"
   ]
  },
  {
   "cell_type": "code",
   "execution_count": 11,
   "id": "e94a2812-034c-4914-bc9b-db23cc05031f",
   "metadata": {},
   "outputs": [
    {
     "data": {
      "text/html": [
       "<div>\n",
       "<style scoped>\n",
       "    .dataframe tbody tr th:only-of-type {\n",
       "        vertical-align: middle;\n",
       "    }\n",
       "\n",
       "    .dataframe tbody tr th {\n",
       "        vertical-align: top;\n",
       "    }\n",
       "\n",
       "    .dataframe thead th {\n",
       "        text-align: right;\n",
       "    }\n",
       "</style>\n",
       "<table border=\"1\" class=\"dataframe\">\n",
       "  <thead>\n",
       "    <tr style=\"text-align: right;\">\n",
       "      <th></th>\n",
       "      <th>LÄNSKOD</th>\n",
       "      <th>KOMMUNKOD</th>\n",
       "      <th>LÄNSNAMN</th>\n",
       "      <th>KOMMUNNAMN</th>\n",
       "      <th>M</th>\n",
       "      <th>C</th>\n",
       "      <th>L</th>\n",
       "      <th>KD</th>\n",
       "      <th>S</th>\n",
       "      <th>V</th>\n",
       "      <th>...</th>\n",
       "      <th>TRP</th>\n",
       "      <th>VL-S</th>\n",
       "      <th>ÖVR</th>\n",
       "      <th>OGEJ</th>\n",
       "      <th>BLANK</th>\n",
       "      <th>OG</th>\n",
       "      <th>RÖSTER GILTIGA</th>\n",
       "      <th>RÖSTANDE</th>\n",
       "      <th>RÖSTBERÄTTIGADE</th>\n",
       "      <th>VALDELTAGANDE</th>\n",
       "    </tr>\n",
       "  </thead>\n",
       "  <tbody>\n",
       "    <tr>\n",
       "      <th>188</th>\n",
       "      <td>17</td>\n",
       "      <td>62</td>\n",
       "      <td>Värmlands län</td>\n",
       "      <td>Munkfors</td>\n",
       "      <td>8.33</td>\n",
       "      <td>8.12</td>\n",
       "      <td>2.91</td>\n",
       "      <td>3.93</td>\n",
       "      <td>52.18</td>\n",
       "      <td>6.11</td>\n",
       "      <td>...</td>\n",
       "      <td>NaN</td>\n",
       "      <td>NaN</td>\n",
       "      <td>NaN</td>\n",
       "      <td>NaN</td>\n",
       "      <td>1.02</td>\n",
       "      <td>NaN</td>\n",
       "      <td>2340</td>\n",
       "      <td>2364</td>\n",
       "      <td>2777</td>\n",
       "      <td>85.13</td>\n",
       "    </tr>\n",
       "  </tbody>\n",
       "</table>\n",
       "<p>1 rows × 45 columns</p>\n",
       "</div>"
      ],
      "text/plain": [
       "     LÄNSKOD  KOMMUNKOD       LÄNSNAMN KOMMUNNAMN     M     C     L    KD  \\\n",
       "188       17         62  Värmlands län   Munkfors  8.33  8.12  2.91  3.93   \n",
       "\n",
       "         S     V  ...  TRP  VL-S  ÖVR  OGEJ  BLANK  OG  RÖSTER GILTIGA  \\\n",
       "188  52.18  6.11  ...  NaN   NaN  NaN   NaN   1.02 NaN            2340   \n",
       "\n",
       "     RÖSTANDE  RÖSTBERÄTTIGADE  VALDELTAGANDE  \n",
       "188      2364             2777          85.13  \n",
       "\n",
       "[1 rows x 45 columns]"
      ]
     },
     "execution_count": 11,
     "metadata": {},
     "output_type": "execute_result"
    }
   ],
   "source": [
    "soc_df = df2.sort_values(\"S\", ascending = False)\n",
    "soc_df.head(1)"
   ]
  },
  {
   "cell_type": "code",
   "execution_count": 18,
   "id": "a36e2501-8553-4736-a269-10816d2b1f5f",
   "metadata": {},
   "outputs": [
    {
     "data": {
      "text/html": [
       "<div>\n",
       "<style scoped>\n",
       "    .dataframe tbody tr th:only-of-type {\n",
       "        vertical-align: middle;\n",
       "    }\n",
       "\n",
       "    .dataframe tbody tr th {\n",
       "        vertical-align: top;\n",
       "    }\n",
       "\n",
       "    .dataframe thead th {\n",
       "        text-align: right;\n",
       "    }\n",
       "</style>\n",
       "<table border=\"1\" class=\"dataframe\">\n",
       "  <thead>\n",
       "    <tr style=\"text-align: right;\">\n",
       "      <th></th>\n",
       "      <th>KOMMUNNAMN</th>\n",
       "      <th>RÖSTANDE</th>\n",
       "      <th>RÖSTBERÄTTIGADE</th>\n",
       "      <th>VALDELTAGANDE</th>\n",
       "    </tr>\n",
       "  </thead>\n",
       "  <tbody>\n",
       "    <tr>\n",
       "      <th>103</th>\n",
       "      <td>Lomma</td>\n",
       "      <td>16492</td>\n",
       "      <td>17570</td>\n",
       "      <td>0.939</td>\n",
       "    </tr>\n",
       "    <tr>\n",
       "      <th>59</th>\n",
       "      <td>Habo</td>\n",
       "      <td>7825</td>\n",
       "      <td>8382</td>\n",
       "      <td>0.934</td>\n",
       "    </tr>\n",
       "    <tr>\n",
       "      <th>98</th>\n",
       "      <td>Vellinge</td>\n",
       "      <td>25360</td>\n",
       "      <td>27231</td>\n",
       "      <td>0.931</td>\n",
       "    </tr>\n",
       "  </tbody>\n",
       "</table>\n",
       "</div>"
      ],
      "text/plain": [
       "    KOMMUNNAMN  RÖSTANDE  RÖSTBERÄTTIGADE  VALDELTAGANDE\n",
       "103      Lomma     16492            17570          0.939\n",
       "59        Habo      7825             8382          0.934\n",
       "98    Vellinge     25360            27231          0.931"
      ]
     },
     "execution_count": 18,
     "metadata": {},
     "output_type": "execute_result"
    }
   ],
   "source": [
    "df2.loc[:, \"VALDELTAGANDE\"] = (df2[\"RÖSTANDE\"]/df2[\"RÖSTBERÄTTIGADE\"]).round(3)\n",
    "turnout_df2 = df2[[\"KOMMUNNAMN\", \"RÖSTANDE\", \"RÖSTBERÄTTIGADE\", \"VALDELTAGANDE\"]]\n",
    "\n",
    "#turnout = (df2[\"RÖSTANDE\"]/df2[\"RÖSTBERÄTTIGADE\"]).round(3)\n",
    "#turnout_df2.loc[:, \"VALDELTAGANDE\"] = turnout\n",
    "\n",
    "turnout_df2.sort_values(\"VALDELTAGANDE\", ascending = False).head(3)"
   ]
  },
  {
   "cell_type": "code",
   "execution_count": 51,
   "id": "52c529df-861f-4d76-9c53-d4b7fc1d47f3",
   "metadata": {},
   "outputs": [],
   "source": [
    "df3 = pd.read_csv(\"https://raw.githubusercontent.com/su-mt4007/data/refs/heads/main/stroke-data.csv\")"
   ]
  },
  {
   "cell_type": "code",
   "execution_count": 78,
   "id": "9997d8c2-895d-41b5-8a25-134de6cebf00",
   "metadata": {},
   "outputs": [],
   "source": [
    "stroke1_df = df3.loc[df3[\"stroke\"] == 1] \n",
    "stroke0_df = df3.loc[df3[\"stroke\"] == 0]\n"
   ]
  },
  {
   "cell_type": "code",
   "execution_count": null,
   "id": "b6680aeb-fa0c-4601-b2d8-ddbd50649073",
   "metadata": {},
   "outputs": [],
   "source": []
  }
 ],
 "metadata": {
  "kernelspec": {
   "display_name": "Python 3 (ipykernel)",
   "language": "python",
   "name": "python3"
  },
  "language_info": {
   "codemirror_mode": {
    "name": "ipython",
    "version": 3
   },
   "file_extension": ".py",
   "mimetype": "text/x-python",
   "name": "python",
   "nbconvert_exporter": "python",
   "pygments_lexer": "ipython3",
   "version": "3.13.0"
  }
 },
 "nbformat": 4,
 "nbformat_minor": 5
}
