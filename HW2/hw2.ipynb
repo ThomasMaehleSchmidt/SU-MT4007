{
 "cells": [
  {
   "cell_type": "markdown",
   "id": "3314c913-f9a4-4c66-a1cb-eb515ef0b8fb",
   "metadata": {},
   "source": [
    "# Homework 2"
   ]
  },
  {
   "cell_type": "code",
   "execution_count": null,
   "id": "6fd800ad-c7ed-43d6-83eb-decee8087e57",
   "metadata": {},
   "outputs": [],
   "source": [
    "import pandas as pd\n",
    "import numpy as np\n",
    "import matplotlib.pyplot as plt"
   ]
  },
  {
   "cell_type": "markdown",
   "id": "ba1402cc-88e2-45fa-adcc-a258cd695ca7",
   "metadata": {},
   "source": [
    "### Apartment prices\n",
    "From a data set containing information about apartments sold in Ekhagen, Stockholm, we want to determine the price/$m^2$, rank the 5 most expensive apartments as such, determine the average price/$m^2$ in Ekhagen and highlight an interesting aspect from the dataset. I chose to consider the relation between size and price/$m^2$."
   ]
  },
  {
   "cell_type": "code",
   "execution_count": null,
   "id": "e76e69ef-f8b0-45ba-b4eb-5efa814aeab3",
   "metadata": {},
   "outputs": [],
   "source": [
    "apartments_df = pd.read_csv(\"https://raw.githubusercontent.com/su-mt4007/data/refs/heads/main/Booli_sold.csv\")"
   ]
  },
  {
   "cell_type": "markdown",
   "id": "394db0d1-2d4b-47f6-92e2-67ef9c7cab65",
   "metadata": {},
   "source": [
    "We read the csv file using pandas and store the data in our dataframe \"appartments_df\"."
   ]
  },
  {
   "cell_type": "code",
   "execution_count": null,
   "id": "3765feb5-f8a1-4d62-a421-f7c37f9db43d",
   "metadata": {},
   "outputs": [],
   "source": [
    "apartments_df.loc[:, \"ppsqm\"] = (apartments_df[\"soldPrice\"]/apartments_df[\"livingArea\"]).round()\n",
    "apartments_df"
   ]
  },
  {
   "cell_type": "markdown",
   "id": "53f321d2-5d8c-416d-b8e5-6987bba7adee",
   "metadata": {},
   "source": [
    "Table with new column \"ppsqm\" (price per square meter) added."
   ]
  },
  {
   "cell_type": "code",
   "execution_count": null,
   "id": "c2f7b7ba-630c-4fb7-8884-ba14d7ab8de2",
   "metadata": {},
   "outputs": [],
   "source": [
    "relevant_ap_df = apartments_df[[\"soldPrice\", \"livingArea\", \"location.address.streetAddress\", \"location.distance.ocean\", \"constructionYear\", \"booliId\", \"floor\", \"ppsqm\"]]"
   ]
  },
  {
   "cell_type": "code",
   "execution_count": null,
   "id": "1670e2cc-8565-4bba-8701-3b618d7b9812",
   "metadata": {},
   "outputs": [],
   "source": [
    "sorted_ap_df = relevant_ap_df.sort_values(\"ppsqm\", ascending = False)\n",
    "sorted_ap_df.head(5)"
   ]
  },
  {
   "cell_type": "markdown",
   "id": "a37e643f-e8dc-4cf4-ba52-264d1cba2538",
   "metadata": {},
   "source": [
    "Sorted dataframe by price per square meters with the highest price at the top, and displayed the five highest."
   ]
  },
  {
   "cell_type": "code",
   "execution_count": null,
   "id": "b0a07d7e-981c-4ecc-9a9d-1b76ab6a907b",
   "metadata": {},
   "outputs": [],
   "source": [
    "filtered_ap_df = sorted_ap_df.dropna(subset = \"ppsqm\")"
   ]
  },
  {
   "cell_type": "markdown",
   "id": "1c431f61-2140-40c9-bf8e-fb552db679bd",
   "metadata": {},
   "source": [
    "Filter out entries without a price per square meter, due to missing livingarea or sold price to get a more accurate average price."
   ]
  },
  {
   "cell_type": "markdown",
   "id": "6084ebe8-0ca9-4732-aaf2-8dfa83f833eb",
   "metadata": {},
   "source": [
    "We add up the sum of all prices per square meter and divide by the number of appartments sold, which gives us an average of approximately $58759$."
   ]
  },
  {
   "cell_type": "code",
   "execution_count": null,
   "id": "f7805bf9-301a-4921-bb03-275515a64c90",
   "metadata": {},
   "outputs": [],
   "source": [
    "print((filtered_ap_df[\"ppsqm\"].sum()/len(filtered_ap_df)).round())"
   ]
  },
  {
   "cell_type": "code",
   "execution_count": null,
   "id": "995eb09a-5720-406e-8f8b-8ec2b5ada74e",
   "metadata": {},
   "outputs": [],
   "source": [
    "sorted_ap_df.plot.scatter(\"livingArea\", \"ppsqm\")"
   ]
  },
  {
   "cell_type": "markdown",
   "id": "f3e0ff27-3d5b-47d2-bcdb-2f6b81de3a57",
   "metadata": {},
   "source": [
    "An interesting part of the dataset could be that the price per square meter doesn't seem to be affected that much by the size of the appartment, with the exception of the smallest appartments as we can see that the 10 most expensive appartments per price per square meters are all less than or around 40$m^2$."
   ]
  },
  {
   "cell_type": "markdown",
   "id": "b2c1cf8d-aab3-4eea-a04d-c171fea38580",
   "metadata": {},
   "source": [
    "### The Swedish Election of 2018\n",
    "Using a dataset containing voting numbers by municipality for the swedish election we want to determine the amount of legitimate votes in Stochkolms län, in which municipality the social democrats received the highest share of the vote and finally to rank the top 3 municipalities by turnout."
   ]
  },
  {
   "cell_type": "code",
   "execution_count": null,
   "id": "1044f6d1-ab30-410e-b9c4-3d2e734061db",
   "metadata": {},
   "outputs": [],
   "source": [
    "val_df = pd.read_csv(\"https://raw.githubusercontent.com/su-mt4007/data/refs/heads/main/2018_R_per_kommun.csv\", sep = \";\", decimal = \",\")"
   ]
  },
  {
   "cell_type": "markdown",
   "id": "e49470c0-ffdc-4e54-94f7-1305e5d47b3e",
   "metadata": {},
   "source": [
    "We read the csv file using pandas and store the data in the dataframe \"val_df\"."
   ]
  },
  {
   "cell_type": "code",
   "execution_count": null,
   "id": "5475ecf1-115d-411a-a930-104e76f9f230",
   "metadata": {},
   "outputs": [],
   "source": [
    "filtered_val_df = val_df.loc[val_df[\"LÄNSNAMN\"] == \"Stockholms län\"] \n",
    "grouped_val_df = filtered_val_df.groupby(\"LÄNSNAMN\").sum(\"RÖSTERGILTIGA\")\n",
    "relevant_val_df = grouped_val_df[[\"RÖSTER GILTIGA\"]]\n",
    "relevant_val_df"
   ]
  },
  {
   "cell_type": "markdown",
   "id": "0c87de53-72a8-4519-a428-a9a1ceddcd55",
   "metadata": {},
   "source": [
    "We filter out all municipalities in Stockholms län, group them together summing up the total legitimate votes.\n",
    "We then select the relevant columns and present it in the table."
   ]
  },
  {
   "cell_type": "code",
   "execution_count": null,
   "id": "e94a2812-034c-4914-bc9b-db23cc05031f",
   "metadata": {},
   "outputs": [],
   "source": [
    "soc_val_df = val_df.sort_values(\"S\", ascending = False)\n",
    "soc_val_df.head(1)"
   ]
  },
  {
   "cell_type": "markdown",
   "id": "03bd36a4-e532-4e4a-a89c-0d8891c2c6bb",
   "metadata": {},
   "source": [
    "We sort the original dataframe by the values in the column corresponding to votes for the social democrats and get that the highest voting percentage is $52.18\\%$ in Munkfors."
   ]
  },
  {
   "cell_type": "code",
   "execution_count": null,
   "id": "a36e2501-8553-4736-a269-10816d2b1f5f",
   "metadata": {},
   "outputs": [],
   "source": [
    "val_df.loc[:, \"VALDELTAGANDE\"] = (val_df[\"RÖSTANDE\"]/val_df[\"RÖSTBERÄTTIGADE\"]).round(3)\n",
    "turnout_val_df = val_df[[\"LÄNSNAMN\", \"KOMMUNNAMN\", \"RÖSTANDE\", \"RÖSTBERÄTTIGADE\", \"VALDELTAGANDE\"]]\n",
    "turnout_val_df.sort_values(\"VALDELTAGANDE\", ascending = False).head(3)"
   ]
  },
  {
   "cell_type": "markdown",
   "id": "d665f93b-34c4-4aa3-8ede-5b6d47fd8487",
   "metadata": {},
   "source": [
    "We create a new column \"VALDELTAGANDE\" which is amount of votes divided by potential voters, we then sort the table by the new column, and present the three highest."
   ]
  },
  {
   "cell_type": "markdown",
   "id": "4597a008-66b8-45f8-bae2-c2a8f0098c71",
   "metadata": {},
   "source": [
    "### Predicting Strokes\n",
    "Using the dataset we want to investigate whether there is a correlation between hypertension and strokes."
   ]
  },
  {
   "cell_type": "code",
   "execution_count": null,
   "id": "52c529df-861f-4d76-9c53-d4b7fc1d47f3",
   "metadata": {},
   "outputs": [],
   "source": [
    "stroke_df = pd.read_csv(\"https://raw.githubusercontent.com/su-mt4007/data/refs/heads/main/stroke-data.csv\")"
   ]
  },
  {
   "cell_type": "markdown",
   "id": "8e33419e-0915-477f-989a-a26c7189a0cc",
   "metadata": {},
   "source": [
    "We read the csv file using pandas and store the data in our dataframe \"stroke_df\"."
   ]
  },
  {
   "cell_type": "markdown",
   "id": "b2c1f4ff-6238-4ac7-b54e-366a0262c02f",
   "metadata": {},
   "source": [
    "We filter out two dataframes from the original, one where everyone has hypertension and one where no one does.\n",
    "To see if there is a correlation we divide the number of people with strokes by the amount of people in each list and present these ratios in the following barplot."
   ]
  },
  {
   "cell_type": "code",
   "execution_count": null,
   "id": "9997d8c2-895d-41b5-8a25-134de6cebf00",
   "metadata": {},
   "outputs": [],
   "source": [
    "hyper1_df = stroke_df.loc[stroke_df[\"hypertension\"] == 1] \n",
    "hyper0_df = stroke_df.loc[stroke_df[\"hypertension\"] == 0]\n",
    "\n",
    "x = np.array([\"No hypertension\",\"Hypertension\"])\n",
    "y = np.array([hyper0_df[\"stroke\"].sum()/len(hyper0_df),hyper1_df[\"stroke\"].sum()/len(hyper1_df)])\n",
    "plt.bar(x, y)\n",
    "plt.ylabel(\"Frequency of stroke\")\n",
    "plt.ylim(0,0.2)\n",
    "plt.show()\n"
   ]
  },
  {
   "cell_type": "markdown",
   "id": "e575ebe6-45dc-452d-b023-d2bdf5c0ee92",
   "metadata": {},
   "source": [
    "This plot supports our assumption that there is a correlation between hypertension and strokes."
   ]
  }
 ],
 "metadata": {
  "kernelspec": {
   "display_name": "Python 3 (ipykernel)",
   "language": "python",
   "name": "python3"
  },
  "language_info": {
   "codemirror_mode": {
    "name": "ipython",
    "version": 3
   },
   "file_extension": ".py",
   "mimetype": "text/x-python",
   "name": "python",
   "nbconvert_exporter": "python",
   "pygments_lexer": "ipython3",
   "version": "3.13.0"
  }
 },
 "nbformat": 4,
 "nbformat_minor": 5
}
